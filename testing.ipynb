{
 "cells": [
  {
   "cell_type": "markdown",
   "id": "6954a656-d052-4717-b246-3395759b4e0f",
   "metadata": {},
   "source": [
    "# Testing Notebook\n",
    "Notebook for testing the constraints.jl code"
   ]
  },
  {
   "cell_type": "markdown",
   "id": "df139913-9314-4972-add9-2b29a54dcd65",
   "metadata": {
    "tags": []
   },
   "source": [
    "## Load constraints"
   ]
  },
  {
   "cell_type": "code",
   "execution_count": null,
   "id": "027537b3-fbfa-4267-aed1-79d649043963",
   "metadata": {},
   "outputs": [],
   "source": [
    "include(\"constraints.jl\")"
   ]
  },
  {
   "cell_type": "markdown",
   "id": "d211b9fe-9144-444d-949a-2ef402d9826c",
   "metadata": {
    "tags": []
   },
   "source": [
    "## Define plotting functions"
   ]
  },
  {
   "cell_type": "code",
   "execution_count": null,
   "id": "74671851-0d9f-4fd8-b9e4-f537fc201bff",
   "metadata": {},
   "outputs": [],
   "source": [
    "function plotConstraints(adm::ADM)\n",
    "    #adm = ADM(rM=1e-2,m=5.11,dα=0.01)\n",
    "    #fig,h1 = plotConstraint(getLSSProperties,ADM(),name=\"LSS SM\")\n",
    "    #display(adm)\n",
    "    fig,hlss = plotConstraint(getLSSProperties,adm,name=\"LSS\")\n",
    "    _,hms = plotConstraint(getDwGalProperties,adm,fig=fig,name=\"Miss Sat\")\n",
    "    _,hdb = plotConstraint(getDBCProperties,adm,fig=fig,name=\"DBC\")\n",
    "    _,hdco = plotConstraint(getDCOProperties,adm,fig=fig,name=\"\\$10^6-10^9\\$ Halos Cool\",ctype=strucform)\n",
    "    _,hmw = plotConstraint(getMWProperties,adm,fig=fig,name=\"MW no cool\",ctype=strucform)\n",
    "    println(\"Plotted Constraints\")\n",
    "    handles = [hlss[1],hms[1],hdb[1],hdco[1],hmw[1]]\n",
    "    T = 10 .^ range(-2,10,length=50)\n",
    "    zBH=5\n",
    "    nBH = nofz(adm.M,zBH)\n",
    "    nBH = 1\n",
    "    println(\"nBH:$nBH\")\n",
    "    ΛSM = get_Lambda.(nBH,T)\n",
    "    #println(\"Post SM\")\n",
    "    ΛP = get_Lambda.(nBH,T;adm)\n",
    "    #push!(handles,loglog(T,ΛSM,linestyle=\"dashdot\",label=\"SM\")[1]) # loglog returns a 1 element list\n",
    "    push!(handles,loglog(T,ΛP,linestyle=\"solid\",label=\"M=$(adm.M) GeV m=$(adm.m) keV\")[1])\n",
    "    legend(;handles)\n",
    "    title(\"M:$(adm.M) GeV m:$(adm.m) keV α\\$_D\\$:$(adm.dα)\")\n",
    "end\n",
    "\n",
    "function plotExamplePoints()\n",
    "    # Example points are SM values and (14 Gev, 325 keV, 0.01) from the paper\n",
    "    rα = [1, 0.01/ADM().α]\n",
    "    r_m = [1, 325/ADM().m]\n",
    "    r_M = [1, 14/ADM().M]\n",
    "    ratom = rα.^2 .* r_m\n",
    "    rrot = rα.^2 .* r_m.^2 ./ r_M\n",
    "    \n",
    "    PyPlot.plot(ratom[1],rrot[1],\"*\",label=\"SM\")\n",
    "    PyPlot.plot(ratom[2],rrot[2],\"*\",label=\"Paper\")\n",
    "    \n",
    "end"
   ]
  },
  {
   "cell_type": "markdown",
   "id": "f3602e13-3e81-4426-9b74-612233bc558a",
   "metadata": {
    "tags": []
   },
   "source": [
    "## Testing constraints plots\n",
    "The first plot should match the plot from [2009.05209](https://arxiv.org/abs/2009.05209) with the addition of the DBC and MW constraints and molecular cooling.\n",
    "\n",
    "The second plot shows constraint situation if SM values are used instead"
   ]
  },
  {
   "cell_type": "code",
   "execution_count": null,
   "id": "916020f4-e590-496f-abe0-e636c3b3ee3e",
   "metadata": {
    "tags": []
   },
   "outputs": [],
   "source": [
    "adm = ADM(M=14,m=325,dα=0.01)\n",
    "plotConstraints(adm)\n",
    "PyPlot.xlim(1e2,1e10)"
   ]
  },
  {
   "cell_type": "code",
   "execution_count": null,
   "id": "0a2886c2-ab11-4542-9efc-65418173ae7f",
   "metadata": {
    "tags": []
   },
   "outputs": [],
   "source": [
    "adm = ADM()\n",
    "plotConstraints(adm)"
   ]
  },
  {
   "cell_type": "markdown",
   "id": "30f670a6-bf46-4631-8aee-a624f8e7cf02",
   "metadata": {
    "tags": []
   },
   "source": [
    "## Example checkAllConstraints output\n",
    "Here we show the output of the checkAllConstraints function for the two cases above. "
   ]
  },
  {
   "cell_type": "markdown",
   "id": "3cd1ed73-7908-4703-b9c7-5ef6b6c6bf8f",
   "metadata": {},
   "source": [
    "We should see one true each for LSS and DBC, 2 for DCO, and 3 for MW for the paper, and all the rest false.\n",
    "\n",
    "For SM values, we should see two true for DBC, two true for DCO, one true for MW and all the rest false."
   ]
  },
  {
   "cell_type": "code",
   "execution_count": null,
   "id": "f2953ec1-ad2d-4007-9b70-645b1ffb4a05",
   "metadata": {
    "tags": []
   },
   "outputs": [],
   "source": [
    "adm = ADM(M=14,m=325,dα=0.01)\n",
    "checksDM = checkAllConstraints(get_Lambda,adm;n_test=1)\n",
    "print(\"Paper values:\\t\")\n",
    "display(checksDM)\n",
    "isgood = (count(checksDM[\"DwG\"])==0 && count(checksDM[\"LSS\"])==1 && count(checksDM[\"DBC\"])==1 \n",
    "    && count(checksDM[\"DCO\"])==2 && count(checksDM[\"MWG\"])==3 ? \"passed\" : \"failed\")\n",
    "println(\"Check: $(isgood)\")\n",
    "adm = ADM()\n",
    "checksSM = checkAllConstraints(get_Lambda,adm;n_test=1)\n",
    "print(\"SM values:\\t\")\n",
    "display(checksSM)\n",
    "isgood = (count(checksSM[\"DwG\"])==0 && count(checksSM[\"LSS\"])==0 && count(checksSM[\"DBC\"])==2 \n",
    "    && count(checksDM[\"DCO\"])==2 && count(checksDM[\"MWG\"])==1 ? \"passed\" : \"failed\")\n",
    "println(\"Check: $(isgood)\")"
   ]
  },
  {
   "cell_type": "markdown",
   "id": "93fd0f00-9327-4fbf-a1a9-10862fe77d68",
   "metadata": {},
   "source": [
    "# Plotting in ADM space\n",
    "We want to plot which constraints are violated as a function of atomic binding energy vs rotational binding energy. That necessitates a fixed $\\alpha=0.01$, $\\xi=0.0005$, and $\\epsilon=1$ for now. James' DAO constraints will probably include multiple $\\xi$ values at the least"
   ]
  },
  {
   "cell_type": "code",
   "execution_count": null,
   "id": "e1c86702-7f6b-4ffb-98f7-b79a07aeeb8e",
   "metadata": {},
   "outputs": [],
   "source": []
  },
  {
   "cell_type": "markdown",
   "id": "cf7780e5-3ad6-4a14-aaf6-49f64c5d3aae",
   "metadata": {},
   "source": [
    "## Generate check grids\n",
    "checks is a dictionary, where each key represents a constraint (must match the list of keys returned by checkAllConstraints) and the corresponding value is the number of times the constraint holds divided by the total number of possibilities. For example, the LSS constraint tests whether $\\Lambda_{test}$ < $\\Lambda_{LSS}$ over a range of $M_{halo}\\rightarrow T$ for 3 given values of `f_lost` (alternatively, `plotConstraint` for LSS plots three lines). Then for a given ADM point, `checks[\"LSS\"][adm]` will be equal to the (number of lines satisfied by $\\Lambda_{ADM}$) $/ 3$. From the figures above, the $\\{14,325,0.01\\}$ point would be $1/3$, while the SM point would be 0. So for a given point, a really strong constraint would approach 0, and a really weak constraint would approach 1. This definition may switch in the future."
   ]
  },
  {
   "cell_type": "code",
   "execution_count": null,
   "id": "aadad366-9d1c-41e6-a557-13712a395832",
   "metadata": {},
   "outputs": [],
   "source": [
    "using LazyGrids\n",
    "# make the binding energy grids. It's probably more interesting to plot vs binding energy scaling, so that's what we'll do\n",
    "dα = 0.01\n",
    "adm = ADM(;ξ=0.0005,dα)\n",
    "rα = adm.rα\n",
    "\n",
    "# Sampling in rm,rM space\n",
    "# r_m = 10 .^ range(-2,2,length=10) # the name rm is used by Filesystem\n",
    "# r_M = 10 .^ range(-2,3,length=10)\n",
    "# r_m, r_M = ndgrid(r_m, r_M)\n",
    "# ratom = adm.rα^2 .* r_m\n",
    "# rrot = adm.rα^2 .* r_m.^2 ./ r_M\n",
    "\n",
    "# Sampling in rATOM=rA, rROT=rR space\n",
    "rA = 10 .^ range(-2,2,length=40)\n",
    "rR = 10 .^ range(-2,2, length=40)\n",
    "rA, rR = ndgrid(rA, rR)\n",
    "r_m = rA ./ rα^2\n",
    "r_M = rA .^2 ./ (rα^2 .* rR)\n",
    "rV = rA .* sqrt.(rR ./ rA);"
   ]
  },
  {
   "cell_type": "markdown",
   "id": "d5d8f990-9158-4f50-a76a-5fcd907040bb",
   "metadata": {},
   "source": [
    "Run grids. Since this is slow, we'll save the checks object so we don't have to run the grids computation each time. If you need to rerun for some reason, either set force to true or delete the `checks.jld2` file"
   ]
  },
  {
   "cell_type": "code",
   "execution_count": null,
   "id": "6c4ec8c2-1f39-46a8-ad08-77f746e1261b",
   "metadata": {},
   "outputs": [],
   "source": [
    "using ProgressMeter\n",
    "using JLD2\n",
    "using UnPack\n",
    "\n",
    "force = false\n",
    "if !isfile(\"checks.jld2\") || force\n",
    "\n",
    "checks = Dict(\"DwG\"=>similar(rA),\"LSS\"=>similar(rA),\"DBC\"=>similar(rA), \"DCO\"=>similar(rA), \"MWG\"=>similar(rA))\n",
    "n = length(eachindex(rA))\n",
    "p = Progress(n, dt=0.5,\n",
    "             barglyphs=BarGlyphs('|','█', ['▁' ,'▂' ,'▃' ,'▄' ,'▅' ,'▆', '▇'],' ','|',),\n",
    "             barlen=10,\n",
    "             showspeed=true)\n",
    "for ind = eachindex(rA)\n",
    "    set_m!(adm,rm=r_m[ind])\n",
    "    set_M!(adm,rM=r_M[ind])\n",
    "    #continue\n",
    "    check = checkAllConstraints(get_Lambda,adm;n_test=1)\n",
    "    for k in keys(checks)\n",
    "        checks[k][ind] = count(check[k])/size(check[k])[1]\n",
    "    end\n",
    "    next!(p)\n",
    "end\n",
    "\n",
    "    JLD2.jldopen(\"checks.jld2\",\"w\") do file\n",
    "        @pack! file = adm,r_m,r_M,rA,rR,rV,checks\n",
    "    end\n",
    "else\n",
    "    JLD2.jldopen(\"checks.jld2\",\"r\") do file\n",
    "        @unpack adm,r_m,r_M,rA,rR,rV,checks = file\n",
    "    end\n",
    "end"
   ]
  },
  {
   "cell_type": "code",
   "execution_count": null,
   "id": "f249073e-63dc-46ee-b757-8714023ce2f8",
   "metadata": {},
   "outputs": [],
   "source": []
  },
  {
   "cell_type": "markdown",
   "id": "50341f1a-4207-42be-b900-374c37f32a5d",
   "metadata": {},
   "source": [
    "## Plot Check grids"
   ]
  },
  {
   "cell_type": "code",
   "execution_count": null,
   "id": "fd994907-13bd-4751-a7f9-78f11c5cf5fb",
   "metadata": {},
   "outputs": [],
   "source": [
    "using PyPlot\n",
    "\n",
    "fig = figure()\n",
    "x = rA\n",
    "y = rR\n",
    "cols = Dict(\"LSS\"=>\"Greens\",\"DwG\"=>\"Blues\",\"DBC\"=>\"Reds\")\n",
    "hat = Dict(\"LSS\"=>\"/\",\"DwG\"=>\"-\",\"DBC\"=>\"o\")\n",
    "alpha_offset = 0.2\n",
    "for k in keys(checks)\n",
    "    #contour(x,y,checks[k],levels=2,label=k)\n",
    "    #masked = convert(Matrix{Union{Float64,Missing}},checks[k])\n",
    "    # matplotlib uses NaNs to mask data apparently\n",
    "    masked = 1.0 .- copy(checks[k])\n",
    "    masked[masked .== 0.0] .= NaN\n",
    "    pcolormesh(x,y, masked,cmap=cols[k],alpha=.5+alpha_offset,)\n",
    "    alpha_offset -= 0.1\n",
    "    clim(0,1)\n",
    "end\n",
    "PyPlot.xlim(extrema(x))\n",
    "PyPlot.ylim(extrema(y))\n",
    "PyPlot.xscale(\"log\")\n",
    "PyPlot.yscale(\"log\")\n",
    "PyPlot.xlabel(\"r\\$_{\\\\rm Atom}\\$\")\n",
    "PyPlot.ylabel(\"r\\$_{\\\\rm Rotational}\\$\")\n",
    "plotExamplePoints()\n",
    "title(\"Shaded region is not allowed\")"
   ]
  },
  {
   "cell_type": "code",
   "execution_count": null,
   "id": "c3553724-74af-4255-a03f-47839cf7c10c",
   "metadata": {},
   "outputs": [],
   "source": [
    "using PyPlot\n",
    "\n",
    "fig = figure()\n",
    "x = rA\n",
    "y = rR\n",
    "k = \"DwG\"\n",
    "masked = 1 .- copy(checks[k])\n",
    "masked[masked.==0.0] .= NaN\n",
    "pcolormesh(x,y,masked,label=k,cmap=cols[k],alpha=0.8,edgecolor=\"none\")\n",
    "PyPlot.xlim(extrema(x))\n",
    "PyPlot.ylim(extrema(y))\n",
    "PyPlot.xscale(\"log\")\n",
    "PyPlot.yscale(\"log\")\n",
    "plotExamplePoints()\n",
    "PyPlot.colorbar()\n",
    "PyPlot.clim(0,1)"
   ]
  },
  {
   "cell_type": "code",
   "execution_count": null,
   "id": "5438b7d9-e7c9-4bdf-83a5-9b3e4794eba5",
   "metadata": {},
   "outputs": [],
   "source": []
  },
  {
   "cell_type": "code",
   "execution_count": null,
   "id": "b30d7f68-be56-4ad3-9709-dac1cef83ecf",
   "metadata": {},
   "outputs": [],
   "source": []
  },
  {
   "cell_type": "code",
   "execution_count": null,
   "id": "4c37b17f-ed9a-4769-8340-deae993c58d5",
   "metadata": {},
   "outputs": [],
   "source": []
  }
 ],
 "metadata": {
  "kernelspec": {
   "display_name": "Julia 1.9.0-rc2",
   "language": "julia",
   "name": "julia-1.9"
  },
  "language_info": {
   "file_extension": ".jl",
   "mimetype": "application/julia",
   "name": "julia",
   "version": "1.9.0"
  },
  "toc-autonumbering": true
 },
 "nbformat": 4,
 "nbformat_minor": 5
}
